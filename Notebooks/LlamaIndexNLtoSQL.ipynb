{
  "nbformat": 4,
  "nbformat_minor": 0,
  "metadata": {
    "colab": {
      "provenance": []
    },
    "kernelspec": {
      "name": "python3",
      "display_name": "Python 3"
    },
    "language_info": {
      "name": "python"
    }
  },
  "cells": [
    {
      "cell_type": "markdown",
      "source": [
        "#  LLM based Natural Language to SQL Query Generator\n",
        "\n",
        "**Description:**\n",
        "\n",
        "In this project, a system is created, using the OpenAI API and LlamaIndex, that converts natural language queries into SQL queries and executes them on a DuckDB database.\n",
        "\n",
        "---"
      ],
      "metadata": {
        "id": "B-T7_gRaELGx"
      }
    },
    {
      "cell_type": "markdown",
      "source": [
        "## 1. Project Setup and Importing Libraries\n"
      ],
      "metadata": {
        "id": "Y38LWjB5EzcS"
      }
    },
    {
      "cell_type": "markdown",
      "source": [
        "### 1.1 Install Required Libraries"
      ],
      "metadata": {
        "id": "BIOvjeaAF5iD"
      }
    },
    {
      "cell_type": "code",
      "execution_count": null,
      "metadata": {
        "id": "0-YvGDrO4Tn6"
      },
      "outputs": [],
      "source": [
        "%%capture\n",
        "!pip install duckdb duckdb-engine llama-index openai llama-index-readers-wikipedia wikipedia"
      ]
    },
    {
      "cell_type": "markdown",
      "source": [
        "### 1.2 Importing Required Libraries"
      ],
      "metadata": {
        "id": "9-HmZQXZFPWA"
      }
    },
    {
      "cell_type": "code",
      "source": [
        "# Llama-Index Libraries\n",
        "from llama_index.core import SQLDatabase, SimpleDirectoryReader, Document\n",
        "from llama_index.readers.wikipedia import WikipediaReader\n",
        "from llama_index.core.indices.struct_store import (\n",
        "    NLSQLTableQueryEngine,\n",
        "    SQLTableRetrieverQueryEngine,\n",
        ")\n",
        "# I-Python Library for Displaying in notebook\n",
        "from IPython.display import Markdown, display\n",
        "\n",
        "# Text-to-SQL Libraries\n",
        "from sqlalchemy import (\n",
        "    create_engine,\n",
        "    MetaData,\n",
        "    Table,\n",
        "    Column,\n",
        "    String,\n",
        "    Integer,\n",
        "    select,\n",
        "    column,\n",
        ")"
      ],
      "metadata": {
        "id": "NUMufHl14ciR"
      },
      "execution_count": null,
      "outputs": []
    },
    {
      "cell_type": "markdown",
      "source": [
        "### 1.3 DuckDB Setup and SQL Engine Setup"
      ],
      "metadata": {
        "id": "aAHiDwMsFyS_"
      }
    },
    {
      "cell_type": "code",
      "source": [
        "# creates a SQLAlchemy engine object that connects to an in-memory DuckDB database.\n",
        "engine = create_engine(\"duckdb:///:memory:\") # https://duckdb.org/\n",
        "metadata_obj = MetaData()"
      ],
      "metadata": {
        "id": "Wqvet3gt4ujL"
      },
      "execution_count": null,
      "outputs": []
    },
    {
      "cell_type": "markdown",
      "source": [
        "#### 1.3.1 Creating Tables"
      ],
      "metadata": {
        "id": "P2BMntYZMt3u"
      }
    },
    {
      "cell_type": "code",
      "source": [
        "# Creating Tables\n",
        "table_name = \"city_statistics\"\n",
        "city_stats_table = Table(\n",
        "    table_name,\n",
        "    metadata_obj,\n",
        "    Column(\"city_name\", String(16), primary_key=True),\n",
        "    Column(\"population\", Integer),\n",
        "    Column(\"country\", String(16), nullable=False),\n",
        ")\n",
        "\n",
        "metadata_obj.create_all(engine)"
      ],
      "metadata": {
        "id": "ErBEeOBL4zG3"
      },
      "execution_count": null,
      "outputs": []
    },
    {
      "cell_type": "code",
      "source": [
        "# print tables\n",
        "metadata_obj.tables.keys()"
      ],
      "metadata": {
        "id": "_inyQSru41gV",
        "colab": {
          "base_uri": "https://localhost:8080/"
        },
        "outputId": "be370696-8401-4158-c2da-6b2ae8df2f1c"
      },
      "execution_count": null,
      "outputs": [
        {
          "output_type": "execute_result",
          "data": {
            "text/plain": [
              "dict_keys(['city_stats'])"
            ]
          },
          "metadata": {},
          "execution_count": 14
        }
      ]
    },
    {
      "cell_type": "markdown",
      "source": [
        "#### 1.3.2 Test Data"
      ],
      "metadata": {
        "id": "5y-IAUkl49pV"
      }
    },
    {
      "cell_type": "code",
      "source": [
        "from sqlalchemy import insert\n",
        "\n",
        "rows = [\n",
        "    {\"city_name\": \"Toronto\", \"population\": 2930000, \"country\": \"Canada\"},\n",
        "    {\"city_name\": \"Tokyo\", \"population\": 13960000, \"country\": \"Japan\"},\n",
        "    {\"city_name\": \"Chicago\", \"population\": 2679000, \"country\": \"United States\"},\n",
        "    {\"city_name\": \"Seoul\", \"population\": 9776000, \"country\": \"South Korea\"},\n",
        "]\n",
        "for row in rows:\n",
        "    stmt = insert(city_stats_table).values(**row)\n",
        "    with engine.begin() as connection:\n",
        "        cursor = connection.execute(stmt)"
      ],
      "metadata": {
        "id": "ylXM_BwY44m8"
      },
      "execution_count": null,
      "outputs": []
    },
    {
      "cell_type": "code",
      "source": [
        "with engine.connect() as connection:\n",
        "    cursor = connection.exec_driver_sql(\"SELECT * FROM city_stats\")\n",
        "    print(cursor.fetchall())"
      ],
      "metadata": {
        "id": "TTdCNsKa5EYs",
        "colab": {
          "base_uri": "https://localhost:8080/"
        },
        "outputId": "0b1f425c-6293-4e22-b53d-984b8487b614"
      },
      "execution_count": null,
      "outputs": [
        {
          "output_type": "stream",
          "name": "stdout",
          "text": [
            "[('Toronto', 2930000, 'Canada'), ('Tokyo', 13960000, 'Japan'), ('Chicago', 2679000, 'United States'), ('Seoul', 9776000, 'South Korea')]\n"
          ]
        }
      ]
    },
    {
      "cell_type": "markdown",
      "source": [
        "---"
      ],
      "metadata": {
        "id": "k8_w0Ng4P0ij"
      }
    },
    {
      "cell_type": "markdown",
      "source": [
        "## 2. Creating SQLDatabase Object"
      ],
      "metadata": {
        "id": "UdZu497V5J_-"
      }
    },
    {
      "cell_type": "code",
      "source": [
        "from llama_index.core import SQLDatabase"
      ],
      "metadata": {
        "id": "Pef61zv55G2X"
      },
      "execution_count": null,
      "outputs": []
    },
    {
      "cell_type": "code",
      "source": [
        "sql_database = SQLDatabase(engine, include_tables=[\"city_stats\"])"
      ],
      "metadata": {
        "id": "2OiUEAvZ5PGR",
        "colab": {
          "base_uri": "https://localhost:8080/"
        },
        "outputId": "5f4f0492-76ff-4faf-beb4-85a2e1f9eeb1"
      },
      "execution_count": null,
      "outputs": [
        {
          "output_type": "stream",
          "name": "stderr",
          "text": [
            "/usr/local/lib/python3.10/dist-packages/duckdb_engine/__init__.py:174: DuckDBEngineWarning: duckdb-engine doesn't yet support reflection on indices\n",
            "  warnings.warn(\n"
          ]
        }
      ]
    },
    {
      "cell_type": "markdown",
      "source": [
        "## 3. Using OpenAI model"
      ],
      "metadata": {
        "id": "vaJOnTsx7eJ-"
      }
    },
    {
      "cell_type": "markdown",
      "source": [
        "### 3.1 Setting up API key"
      ],
      "metadata": {
        "id": "b7X4YrnvO4cS"
      }
    },
    {
      "cell_type": "code",
      "source": [
        "import os\n",
        "from google.colab import userdata\n",
        "# https://platform.openai.com/account/api-keys\n",
        "os.environ[\"OPENAI_API_KEY\"] = userdata.get(\"OPEN_API_KEY\")"
      ],
      "metadata": {
        "id": "s8t8xW7l6ul6"
      },
      "execution_count": null,
      "outputs": []
    },
    {
      "cell_type": "markdown",
      "source": [
        "### 3.2 Setting up llama-index to use OpenAI API"
      ],
      "metadata": {
        "id": "9dyDggwtPXVd"
      }
    },
    {
      "cell_type": "code",
      "source": [
        "#Configuring Llama Index\n",
        "from llama_index.llms.openai import OpenAI\n",
        "from llama_index.core import Settings\n",
        "\n",
        "llm = OpenAI(model=\"gpt-3.5-turbo\")\n",
        "\n",
        "# configure Settings\n",
        "Settings.llm = llm"
      ],
      "metadata": {
        "id": "MYiS7v90D_e6"
      },
      "execution_count": null,
      "outputs": []
    },
    {
      "cell_type": "markdown",
      "source": [
        "### 3.3 Setting up Query Engine"
      ],
      "metadata": {
        "id": "vMkSGEquPi0t"
      }
    },
    {
      "cell_type": "code",
      "source": [
        "query_engine_openai = NLSQLTableQueryEngine(sql_database)"
      ],
      "metadata": {
        "id": "XdMfXLzD7Vss"
      },
      "execution_count": null,
      "outputs": []
    },
    {
      "cell_type": "markdown",
      "source": [
        "\n",
        "\n",
        "---\n",
        "\n"
      ],
      "metadata": {
        "id": "O4UzkwxzP4E2"
      }
    },
    {
      "cell_type": "markdown",
      "source": [
        "## 4. Data Queries"
      ],
      "metadata": {
        "id": "bm4QShz1PFVW"
      }
    },
    {
      "cell_type": "markdown",
      "source": [
        "### 4.1 Query 1:"
      ],
      "metadata": {
        "id": "pphkjpTjPJF5"
      }
    },
    {
      "cell_type": "code",
      "source": [
        "response = query_engine_openai.query(\"Which city has the highest population?\")"
      ],
      "metadata": {
        "id": "8ncuuNcS77YS"
      },
      "execution_count": null,
      "outputs": []
    },
    {
      "cell_type": "code",
      "source": [
        "response.response"
      ],
      "metadata": {
        "id": "wsPba4XV9vWC",
        "colab": {
          "base_uri": "https://localhost:8080/",
          "height": 35
        },
        "outputId": "1c20d851-7ead-44b7-8fa0-7d083953a4e1"
      },
      "execution_count": null,
      "outputs": [
        {
          "output_type": "execute_result",
          "data": {
            "text/plain": [
              "'Tokyo has the highest population among all cities, with a population of 13,960,000.'"
            ],
            "application/vnd.google.colaboratory.intrinsic+json": {
              "type": "string"
            }
          },
          "metadata": {},
          "execution_count": 31
        }
      ]
    },
    {
      "cell_type": "code",
      "source": [
        "response.metadata"
      ],
      "metadata": {
        "id": "_B9vvDE_90Im",
        "colab": {
          "base_uri": "https://localhost:8080/"
        },
        "outputId": "2da4cb90-6b57-4e57-ab3b-c04010846cbb"
      },
      "execution_count": null,
      "outputs": [
        {
          "output_type": "execute_result",
          "data": {
            "text/plain": [
              "{'59620d56-ae2c-40f2-aa10-45904ec08109': {'sql_query': 'SELECT city_name, population\\nFROM city_stats\\nORDER BY population DESC\\nLIMIT 1;',\n",
              "  'result': [('Tokyo', 13960000)],\n",
              "  'col_keys': ['city_name', 'population']},\n",
              " 'sql_query': 'SELECT city_name, population\\nFROM city_stats\\nORDER BY population DESC\\nLIMIT 1;',\n",
              " 'result': [('Tokyo', 13960000)],\n",
              " 'col_keys': ['city_name', 'population']}"
            ]
          },
          "metadata": {},
          "execution_count": 32
        }
      ]
    },
    {
      "cell_type": "markdown",
      "source": [
        "-----\n",
        "\n",
        "### 4.2 Query 2:"
      ],
      "metadata": {
        "id": "aL5C94MtPMuc"
      }
    },
    {
      "cell_type": "code",
      "source": [
        "response_with_population = query_engine_openai.query(\"Which city has the highest population. Also provide the population?\")"
      ],
      "metadata": {
        "id": "HoMYd8AE93Oh"
      },
      "execution_count": null,
      "outputs": []
    },
    {
      "cell_type": "code",
      "source": [
        "response_with_population.response"
      ],
      "metadata": {
        "id": "QMTYMsfy-MaE",
        "colab": {
          "base_uri": "https://localhost:8080/",
          "height": 35
        },
        "outputId": "3687f47f-3bf7-400b-b60c-e8e3c24f686a"
      },
      "execution_count": null,
      "outputs": [
        {
          "output_type": "execute_result",
          "data": {
            "text/plain": [
              "'The city with the highest population is Tokyo, with a population of 13,960,000.'"
            ],
            "application/vnd.google.colaboratory.intrinsic+json": {
              "type": "string"
            }
          },
          "metadata": {},
          "execution_count": 34
        }
      ]
    },
    {
      "cell_type": "markdown",
      "source": [
        "-------"
      ],
      "metadata": {
        "id": "90oyyP_WPsRs"
      }
    },
    {
      "cell_type": "markdown",
      "source": [
        "## 5. Large Database with multiple Tables\n",
        "\n",
        "In case of a large database with several tables."
      ],
      "metadata": {
        "id": "pbK1Dzeu_Lkp"
      }
    },
    {
      "cell_type": "markdown",
      "source": [
        "### 5.1 Defining Database Tables"
      ],
      "metadata": {
        "id": "Wwn7rtuQRddr"
      }
    },
    {
      "cell_type": "code",
      "source": [
        "# creates a SQLAlchemy engine object that connects to an in-memory DuckDB database.\n",
        "engine = create_engine(\"duckdb:///:memory:\")\n",
        "metadata_obj = MetaData()"
      ],
      "metadata": {
        "id": "ci5nXlOp-V3Z"
      },
      "execution_count": null,
      "outputs": []
    },
    {
      "cell_type": "code",
      "source": [
        "# create city_stats SQL table\n",
        "table_name = \"city_stats\"\n",
        "city_stats_table = Table(\n",
        "    table_name,\n",
        "    metadata_obj,\n",
        "    Column(\"city_name\", String(16), primary_key=True),\n",
        "    Column(\"population\", Integer),\n",
        "    Column(\"country\", String(16), nullable=False),\n",
        "    extend_existing=True,\n",
        ")\n",
        "\n",
        "all_table_names = [\"city_stats\"]\n",
        "\n",
        "# create a ton of dummy tables\n",
        "n = 100\n",
        "for i in range(n):\n",
        "    tmp_table_name = f\"table_{i}\"\n",
        "    tmp_table = Table(\n",
        "        tmp_table_name,\n",
        "        metadata_obj,\n",
        "        Column(f\"field_{i}_1\", String(16), primary_key=True),\n",
        "        Column(f\"field_{i}_2\", Integer),\n",
        "        Column(f\"field_{i}_3\", String(16), nullable=False),\n",
        "        extend_existing=True,\n",
        "    )\n",
        "    all_table_names.append(f\"table_{i}\")\n",
        "\n",
        "metadata_obj.create_all(engine)"
      ],
      "metadata": {
        "id": "-1giaCkh_eE7"
      },
      "execution_count": null,
      "outputs": []
    },
    {
      "cell_type": "code",
      "source": [
        "all_table_names"
      ],
      "metadata": {
        "id": "DvbnghCpOwTn"
      },
      "execution_count": null,
      "outputs": []
    },
    {
      "cell_type": "code",
      "source": [
        "with engine.connect() as connection:\n",
        "    cursor = connection.exec_driver_sql(\"SELECT * FROM city_stats\")\n",
        "    print(cursor.fetchall())"
      ],
      "metadata": {
        "id": "jAxntdNG_0km",
        "colab": {
          "base_uri": "https://localhost:8080/"
        },
        "outputId": "e106175e-43ce-4e71-c086-dc867edc53a1"
      },
      "execution_count": null,
      "outputs": [
        {
          "output_type": "stream",
          "name": "stdout",
          "text": [
            "[]\n"
          ]
        }
      ]
    },
    {
      "cell_type": "code",
      "source": [
        "# insert dummy data\n",
        "from sqlalchemy import insert\n",
        "\n",
        "rows = [\n",
        "    {\"city_name\": \"Toronto\", \"population\": 2930000, \"country\": \"Canada\"},\n",
        "    {\"city_name\": \"Tokyo\", \"population\": 13960000, \"country\": \"Japan\"},\n",
        "    {\"city_name\": \"Chicago\", \"population\": 2679000, \"country\": \"United States\"},\n",
        "    {\"city_name\": \"Seoul\", \"population\": 9776000, \"country\": \"South Korea\"},\n",
        "]\n",
        "for row in rows:\n",
        "    stmt = insert(city_stats_table).values(**row)\n",
        "    with engine.begin() as connection:\n",
        "        cursor = connection.execute(stmt)"
      ],
      "metadata": {
        "id": "QUiqH47j_-2o"
      },
      "execution_count": null,
      "outputs": []
    },
    {
      "cell_type": "code",
      "source": [
        "with engine.connect() as connection:\n",
        "    cursor = connection.exec_driver_sql(\"SELECT * FROM city_stats\")\n",
        "    print(cursor.fetchall())"
      ],
      "metadata": {
        "id": "bMykppgAACUi",
        "colab": {
          "base_uri": "https://localhost:8080/"
        },
        "outputId": "265c2933-703a-48c1-940d-fbb2a2bedbd8"
      },
      "execution_count": null,
      "outputs": [
        {
          "output_type": "stream",
          "name": "stdout",
          "text": [
            "[('Toronto', 2930000, 'Canada'), ('Tokyo', 13960000, 'Japan'), ('Chicago', 2679000, 'United States'), ('Seoul', 9776000, 'South Korea')]\n"
          ]
        }
      ]
    },
    {
      "cell_type": "code",
      "source": [
        "with engine.connect() as connection:\n",
        "    cursor = connection.exec_driver_sql(\"SELECT * FROM table_99\")\n",
        "    print(cursor.fetchall())"
      ],
      "metadata": {
        "id": "toV2sbmUAEKK",
        "colab": {
          "base_uri": "https://localhost:8080/"
        },
        "outputId": "bd1fd916-b7e0-42db-f2f7-f2d2e83972b1"
      },
      "execution_count": null,
      "outputs": [
        {
          "output_type": "stream",
          "name": "stdout",
          "text": [
            "[]\n"
          ]
        }
      ]
    },
    {
      "cell_type": "code",
      "source": [
        "sql_database = SQLDatabase(engine, include_tables=[\"city_stats\"])"
      ],
      "metadata": {
        "id": "B1_pQlpzAHOs",
        "colab": {
          "base_uri": "https://localhost:8080/"
        },
        "outputId": "6e32cb90-9b72-42d0-d4c8-ef926e059fb0"
      },
      "execution_count": null,
      "outputs": [
        {
          "output_type": "stream",
          "name": "stderr",
          "text": [
            "/usr/local/lib/python3.10/dist-packages/duckdb_engine/__init__.py:174: DuckDBEngineWarning: duckdb-engine doesn't yet support reflection on indices\n",
            "  warnings.warn(\n"
          ]
        }
      ]
    },
    {
      "cell_type": "markdown",
      "source": [
        "### 5.2 Construct Object Index"
      ],
      "metadata": {
        "id": "YLlc7g9AAP3l"
      }
    },
    {
      "cell_type": "code",
      "source": [
        "from llama_index.core.indices.struct_store import SQLTableRetrieverQueryEngine\n",
        "from llama_index.core.objects import SQLTableNodeMapping, ObjectIndex, SQLTableSchema\n",
        "from llama_index.core import VectorStoreIndex"
      ],
      "metadata": {
        "id": "yRjfYx06ANpZ"
      },
      "execution_count": null,
      "outputs": []
    },
    {
      "cell_type": "code",
      "source": [
        "table_node_mapping = SQLTableNodeMapping(sql_database)\n",
        "\n",
        "table_schema_objs = [SQLTableSchema(table_name=table_name) for table_name in all_table_names]\n",
        "\n",
        "obj_index = ObjectIndex.from_objects(\n",
        "    table_schema_objs,\n",
        "    table_node_mapping,\n",
        "    VectorStoreIndex,\n",
        ")"
      ],
      "metadata": {
        "id": "I3c9koCHASb8"
      },
      "execution_count": null,
      "outputs": []
    },
    {
      "cell_type": "markdown",
      "source": [
        "### 5.3 Query Index with `SQLTableRetrieverQueryEngine`\n"
      ],
      "metadata": {
        "id": "o2OrplpMAmx5"
      }
    },
    {
      "cell_type": "code",
      "source": [
        "query_engine = SQLTableRetrieverQueryEngine(\n",
        "    sql_database,\n",
        "    obj_index.as_retriever(similarity_top_k=1),\n",
        ")"
      ],
      "metadata": {
        "id": "ypE40KynAkS4"
      },
      "execution_count": null,
      "outputs": []
    },
    {
      "cell_type": "markdown",
      "source": [
        "\n",
        "\n",
        "---\n",
        "\n"
      ],
      "metadata": {
        "id": "ayNGZcXHRUc3"
      }
    },
    {
      "cell_type": "markdown",
      "source": [
        "## 4. Data Queries"
      ],
      "metadata": {
        "id": "7puRY3spRUc3"
      }
    },
    {
      "cell_type": "markdown",
      "source": [
        "### 4.1 Query 1:"
      ],
      "metadata": {
        "id": "el9zOBLTRUc3"
      }
    },
    {
      "cell_type": "code",
      "source": [
        "response = query_engine.query(\"Which city has the highest population?\")"
      ],
      "metadata": {
        "id": "6J--KbE-A0EM"
      },
      "execution_count": null,
      "outputs": []
    },
    {
      "cell_type": "code",
      "source": [
        "response.response"
      ],
      "metadata": {
        "id": "X_WmuTobA4n2",
        "colab": {
          "base_uri": "https://localhost:8080/",
          "height": 35
        },
        "outputId": "d29d81d7-bc4a-47b5-deeb-41f3ba075cc2"
      },
      "execution_count": null,
      "outputs": [
        {
          "output_type": "execute_result",
          "data": {
            "text/plain": [
              "'Tokyo has the highest population among all cities, with a population of 13,960,000.'"
            ],
            "application/vnd.google.colaboratory.intrinsic+json": {
              "type": "string"
            }
          },
          "metadata": {},
          "execution_count": 55
        }
      ]
    },
    {
      "cell_type": "code",
      "source": [
        "response.metadata"
      ],
      "metadata": {
        "id": "LqA36MiNA62L",
        "colab": {
          "base_uri": "https://localhost:8080/"
        },
        "outputId": "87665be3-110b-4877-9543-1fbd4c56d4ce"
      },
      "execution_count": null,
      "outputs": [
        {
          "output_type": "execute_result",
          "data": {
            "text/plain": [
              "{'773c589a-b95a-45aa-8e3f-a18aede57467': {'sql_query': 'SELECT city_name, population\\nFROM city_stats\\nORDER BY population DESC\\nLIMIT 1;',\n",
              "  'result': [('Tokyo', 13960000)],\n",
              "  'col_keys': ['city_name', 'population']},\n",
              " 'sql_query': 'SELECT city_name, population\\nFROM city_stats\\nORDER BY population DESC\\nLIMIT 1;',\n",
              " 'result': [('Tokyo', 13960000)],\n",
              " 'col_keys': ['city_name', 'population']}"
            ]
          },
          "metadata": {},
          "execution_count": 56
        }
      ]
    },
    {
      "cell_type": "markdown",
      "source": [
        "\n",
        "\n",
        "---\n",
        "\n"
      ],
      "metadata": {
        "id": "Fwor3UAERYh6"
      }
    }
  ]
}